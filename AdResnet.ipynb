{
  "nbformat": 4,
  "nbformat_minor": 0,
  "metadata": {
    "accelerator": "TPU",
    "colab": {
      "name": "matchingnetworkAlexnet040707.ipynb",
      "provenance": [],
      "collapsed_sections": [],
      "machine_shape": "hm"
    },
    "kernelspec": {
      "display_name": "Python 3",
      "language": "python",
      "name": "python3"
    },
    "language_info": {
      "codemirror_mode": {
        "name": "ipython",
        "version": 3
      },
      "file_extension": ".py",
      "mimetype": "text/x-python",
      "name": "python",
      "nbconvert_exporter": "python",
      "pygments_lexer": "ipython3",
      "version": "3.7.10"
    }
  },
  "cells": [
    {
      "cell_type": "code",
      "metadata": {
        "colab": {
          "base_uri": "https://localhost:8080/"
        },
        "id": "vsxUmZL3X0EQ",
        "outputId": "ae956579-f659-44ba-e48d-8fdcfd302e7e"
      },
      "source": [
        "import cv2\n",
        "import os\n",
        "import pandas as pd\n",
        "import numpy as np\n",
        "import h5py\n",
        "import pickle\n",
        "import random\n",
        "import tensorflow as tf\n",
        "from tensorflow.keras import layers,regularizers\n",
        "from tensorflow import keras\n",
        "from keras.models import Model\n",
        "from keras.layers import Input, Flatten, Dense, Dropout, Lambda\n",
        "from keras.layers import Conv2D, Activation,AveragePooling2D,BatchNormalization\n",
        "from keras import backend as K\n",
        "import matplotlib.pyplot as plt\n",
        "import pandas as pd\n",
        "from google.colab import drive\n",
        "drive.mount(\"/content/gdrive\")"
      ],
      "execution_count": null,
      "outputs": [
        {
          "output_type": "stream",
          "text": [
            "Mounted at /content/gdrive\n"
          ],
          "name": "stdout"
        }
      ]
    },
    {
      "cell_type": "code",
      "metadata": {
        "id": "Ft5cSbh6Fi93"
      },
      "source": [
        "filename = \"/content/gdrive/My Drive/Colab Notebooks/THESIS/CSV/data_labels.h5\"\n",
        "with h5py.File(filename, 'r') as f:\n",
        "    all_uav_xyzHTR = np.asarray(list(f['all_uav_xyzHTR']))\n",
        "    match_array = np.asarray(list(f['match_array_40']))"
      ],
      "execution_count": null,
      "outputs": []
    },
    {
      "cell_type": "code",
      "metadata": {
        "colab": {
          "base_uri": "https://localhost:8080/"
        },
        "id": "v7UB1X71IdHv",
        "outputId": "ae1b5aa5-798e-41d4-c84a-34ecf3dfbf4b"
      },
      "source": [
        "match_array1=match_array[:,800:2078]\n",
        "match_array2=match_array[:,2078:3075]\n",
        "match_array3=match_array[:,3075:4272]\n",
        "match_array5=match_array[:,11466:14581]\n",
        "match_array6=match_array[:,14581:16167]\n",
        "match_array7=match_array[:,16167:17059]\n",
        "match_array12=np.concatenate((match_array1,match_array2,match_array3,match_array5,match_array6,match_array7)\n",
        "                                               ,axis=1)\n",
        "match_array1 = match_array12[800:2078,:]\n",
        "match_array2=match_array12[2078:3075,:]\n",
        "match_array3=match_array12[3075:4272,:]\n",
        "match_array5=match_array12[11466:14581,:]\n",
        "match_array6=match_array12[14581:16167,:]\n",
        "match_array7=match_array12[16167:17059,:]\n",
        "match_array12=np.concatenate((match_array1,match_array2,match_array3,match_array5,match_array6,match_array7)\n",
        "                            ,axis=0)\n",
        "print(match_array12.shape)\n",
        "matching_pairs = np.transpose(np.nonzero(match_array12))\n",
        "print(matching_pairs)"
      ],
      "execution_count": null,
      "outputs": [
        {
          "output_type": "stream",
          "text": [
            "(9065, 9065)\n",
            "[[   0    0]\n",
            " [   0    4]\n",
            " [   0   22]\n",
            " ...\n",
            " [9062 9062]\n",
            " [9063 9063]\n",
            " [9064 9064]]\n"
          ],
          "name": "stdout"
        }
      ]
    },
    {
      "cell_type": "code",
      "metadata": {
        "id": "CiD5gmkZIdru"
      },
      "source": [
        "f=open('/content/gdrive/MyDrive/Colab Notebooks/THESIS/pickle_alexnet/uav/atlanta_uav','rb')\n",
        "training_data1=pickle.load(f)\n",
        "f.close()\n",
        "f=open('/content/gdrive/MyDrive/Colab Notebooks/THESIS/pickle_alexnet/uav/austin_uav','rb')\n",
        "training_data2=pickle.load(f)\n",
        "f.close()\n",
        "f=open('/content/gdrive/MyDrive/Colab Notebooks/THESIS/pickle_alexnet/uav/boston_uav','rb')\n",
        "training_data3=pickle.load(f)\n",
        "f.close()\n",
        "f=open('/content/gdrive/MyDrive/Colab Notebooks/THESIS/pickle_alexnet/uav/chicago_uav','rb')\n",
        "training_data5=pickle.load(f)\n",
        "f.close()\n",
        "f=open('/content/gdrive/MyDrive/Colab Notebooks/THESIS/pickle_alexnet/uav/miami_uav','rb')\n",
        "training_data6=pickle.load(f)\n",
        "f.close()\n",
        "f=open('/content/gdrive/MyDrive/Colab Notebooks/THESIS/pickle_alexnet/uav/sanfrancisco_uav','rb')\n",
        "training_data7=pickle.load(f)\n",
        "f.close()"
      ],
      "execution_count": null,
      "outputs": []
    },
    {
      "cell_type": "code",
      "metadata": {
        "id": "0bHwk9sv18n4"
      },
      "source": [
        "uav=np.array(training_data1[800:2078]+training_data2+training_data3+training_data5+training_data6+training_data7,dtype='float16')"
      ],
      "execution_count": null,
      "outputs": []
    },
    {
      "cell_type": "code",
      "metadata": {
        "id": "zSY3eRKfBjFj"
      },
      "source": [
        "\n",
        "f=open('/content/gdrive/MyDrive/Colab Notebooks/THESIS/pickle_alexnet/sat/atlanta_sat','rb')\n",
        "training_dat1=pickle.load(f)\n",
        "f.close()\n",
        "f=open('/content/gdrive/MyDrive/Colab Notebooks/THESIS/pickle_alexnet/sat/austin_sat','rb')\n",
        "training_dat2=pickle.load(f)\n",
        "f.close()\n",
        "f=open('/content/gdrive/MyDrive/Colab Notebooks/THESIS/pickle_alexnet/sat/boston_sat','rb')\n",
        "training_dat3=pickle.load(f)\n",
        "f.close()\n",
        "f=open('/content/gdrive/MyDrive/Colab Notebooks/THESIS/pickle_alexnet/sat/chicago_sat','rb')\n",
        "training_dat5=pickle.load(f)\n",
        "f.close()\n",
        "f=open('/content/gdrive/MyDrive/Colab Notebooks/THESIS/pickle_alexnet/sat/miami_sat','rb')\n",
        "training_dat6=pickle.load(f)\n",
        "f.close()\n",
        "f=open('/content/gdrive/MyDrive/Colab Notebooks/THESIS/pickle_alexnet/sat/sanfrancisco_sat','rb')\n",
        "training_dat7=pickle.load(f)\n",
        "f.close()"
      ],
      "execution_count": null,
      "outputs": []
    },
    {
      "cell_type": "code",
      "metadata": {
        "id": "9paCVe6d2EOa"
      },
      "source": [
        "sat=np.array(training_dat1[800:2078]+training_dat2+training_dat3+training_dat5+training_dat6+training_dat7\n",
        "              ,dtype='float16')"
      ],
      "execution_count": null,
      "outputs": []
    },
    {
      "cell_type": "code",
      "metadata": {
        "colab": {
          "base_uri": "https://localhost:8080/"
        },
        "id": "9qvpUcRmJgm5",
        "outputId": "433a05db-86ee-4d2f-a1dc-b6b30d47e18e"
      },
      "source": [
        "print(uav.shape)\n",
        "print(sat.shape)\n",
        "print(matching_pairs.shape)"
      ],
      "execution_count": null,
      "outputs": [
        {
          "output_type": "stream",
          "text": [
            "(9065, 227, 227, 3)\n",
            "(9065, 227, 227, 3)\n",
            "(17271, 2)\n"
          ],
          "name": "stdout"
        }
      ]
    },
    {
      "cell_type": "code",
      "metadata": {
        "id": "TM5Tsn7sk2tu"
      },
      "source": [
        "del training_data7,training_data6,training_data3,training_data2\n",
        "del training_dat2,training_dat5,training_data5\n",
        "del training_dat3,training_dat1,training_data1\n",
        "del training_dat6,training_dat7"
      ],
      "execution_count": null,
      "outputs": []
    },
    {
      "cell_type": "code",
      "metadata": {
        "colab": {
          "base_uri": "https://localhost:8080/"
        },
        "id": "c2G2VVZlR7jC",
        "outputId": "f6805850-ad29-4680-e546-a2a2c2cca724"
      },
      "source": [
        "\n",
        "# Generate same number of non-matching pairs\n",
        "non_match_pairs = []\n",
        "for i in range(len(match_array12)):\n",
        "    match_idx = np.nonzero(match_array12[i,:])\n",
        "    match_idx = np.asarray(match_idx)\n",
        "    for j in range(match_idx.size):\n",
        "        rand_idx = np.random.randint(len(match_array12))\n",
        "        while(rand_idx in match_idx):\n",
        "            rand_idx = np.random.randint(len(match_array12))\n",
        "        non_match_pairs.append(np.array([i, rand_idx]))\n",
        "non_match_pairs = np.asarray(non_match_pairs)\n",
        "print(non_match_pairs.shape)"
      ],
      "execution_count": null,
      "outputs": [
        {
          "output_type": "stream",
          "text": [
            "(17271, 2)\n"
          ],
          "name": "stdout"
        }
      ]
    },
    {
      "cell_type": "code",
      "metadata": {
        "id": "FLHEucEcR_AC"
      },
      "source": [
        "choose_idx_match = []\n",
        "choose_idx_nonmt = []\n",
        "n_validby2 = 1727\n",
        "while(len(choose_idx_match) < n_validby2):\n",
        "    to_append = np.random.randint(len(matching_pairs))\n",
        "    if to_append not in choose_idx_match:\n",
        "        choose_idx_match.append(to_append)\n",
        "while(len(choose_idx_nonmt) < n_validby2):\n",
        "    to_append = np.random.randint(len(non_match_pairs))\n",
        "    if to_append not in choose_idx_nonmt:\n",
        "        choose_idx_nonmt.append(to_append)\n",
        "valmatchpairs,valnonmatpairs=matching_pairs[choose_idx_match], non_match_pairs[choose_idx_nonmt]"
      ],
      "execution_count": null,
      "outputs": []
    },
    {
      "cell_type": "code",
      "metadata": {
        "id": "hb-g8GKmybyC"
      },
      "source": [
        "pairs=[]\n",
        "labels=[]\n",
        "for i in range(len(valmatchpairs)):\n",
        "            z1, z2 = valmatchpairs[i]\n",
        "            pairs += [[uav[z1], sat[z2]]]\n",
        "            z1, z2 = valnonmatpairs[i]\n",
        "            pairs += [[uav[z1], sat[z2]]]\n",
        "            labels += [1,0]\n",
        "validpairs=np.array(pairs,dtype='float16')\n",
        "validlabels=np.array(labels)"
      ],
      "execution_count": null,
      "outputs": []
    },
    {
      "cell_type": "code",
      "metadata": {
        "id": "3dwnZuggSE87"
      },
      "source": [
        "mask_match = np.ones(len(matching_pairs), dtype = bool)\n",
        "mask_match[choose_idx_match] = False\n",
        "mask_nonmt = np.ones(len(non_match_pairs), dtype = bool)\n",
        "mask_nonmt[choose_idx_nonmt] = False\n",
        "train_match_pairs = matching_pairs[mask_match]\n",
        "train_nonmt_pairs = non_match_pairs[mask_nonmt]\n",
        "train_pairs = np.concatenate((train_match_pairs, train_nonmt_pairs), axis = 0)"
      ],
      "execution_count": null,
      "outputs": []
    },
    {
      "cell_type": "code",
      "metadata": {
        "id": "thz8DoGDymjx"
      },
      "source": [
        "pairs=[]\n",
        "labels=[]\n",
        "for i in range(len(train_match_pairs)):\n",
        "            z1, z2 = train_match_pairs[i]\n",
        "            pairs += [[uav[z1], sat[z2]]]\n",
        "            z1, z2 = train_nonmt_pairs[i]\n",
        "            pairs += [[uav[z1], sat[z2]]]\n",
        "            labels += [1,0]\n",
        "trpairs=np.array(pairs,dtype='float16')\n",
        "trlabels=np.array(labels)"
      ],
      "execution_count": null,
      "outputs": []
    },
    {
      "cell_type": "code",
      "metadata": {
        "id": "UdPlr9aulf9g"
      },
      "source": [
        "del uav,sat,pairs"
      ],
      "execution_count": null,
      "outputs": []
    },
    {
      "cell_type": "code",
      "metadata": {
        "id": "B0zrcbdbzSxw"
      },
      "source": [
        "import pickle\n",
        "rand_idx = '/content/gdrive/MyDrive/Colab Notebooks/MODELS/rand_idx'\n",
        "validp = '/content/gdrive/MyDrive/Colab Notebooks/MODELS/mat94659'\n",
        "validlab = '/content/gdrive/MyDrive/Colab Notebooks/MODELS/nonmat94659'\n",
        "\n",
        "with open(validp, 'wb') as f:\n",
        "    pickle.dump(choose_idx_match, f)\n",
        "with open(validlab, 'wb') as f:\n",
        "    pickle.dump(choose_idx_nonmt, f)\n",
        "with open(rand_idx, 'wb') as f:\n",
        "    pickle.dump(rand_idx, f)"
      ],
      "execution_count": null,
      "outputs": []
    },
    {
      "cell_type": "code",
      "metadata": {
        "id": "kRj3wtkWxY_F"
      },
      "source": [
        "\n",
        "def Alexnet(input,num_classes=1000, drop_rate=0.5, regularizer_rate=0.0002):\n",
        "    \"\"\"\n",
        "         The AlexNet pre-training model structure implemented in PyTorch has a depth of (64, 192, 384, 256, 256).\n",
        "         Returns the inputs and outputs of AlexNet\n",
        "    \"\"\"\n",
        "    #inputs = layers.Input(shape=img_shape)\n",
        "\n",
        "    conv1 = layers.Conv2D(64, (11, 11), strides=(4, 4), padding='valid', activation='relu')(input)\n",
        "\n",
        "    pool1 = layers.MaxPooling2D(pool_size=(3, 3), strides=(2, 2))(conv1)\n",
        "\n",
        "    conv2 = layers.Conv2D(192, (5, 5), strides=(1, 1), padding='same', activation='relu')(pool1)\n",
        "\n",
        "    pool2 = layers.MaxPooling2D(pool_size=(3, 3), strides=(2, 2))(conv2)\n",
        "\n",
        "    conv3 = layers.Conv2D(384, (3, 3), strides=(1, 1), padding='same', activation='relu')(pool2)\n",
        "\n",
        "    conv4 = layers.Conv2D(256, (3, 3), strides=(1, 1), padding='same', activation='relu')(conv3)\n",
        "\n",
        "    conv5 = layers.Conv2D(256, (3, 3), strides=(1, 1), padding='same', activation='relu')(conv4)\n",
        "\n",
        "    pool3 = layers.MaxPooling2D(pool_size=(3, 3), strides=(2, 2))(conv5)\n",
        "\n",
        "    flat = layers.Flatten()(pool3)\n",
        "\n",
        "    dense1 = layers.Dense(4096, activation='relu', kernel_regularizer=regularizers.l2(regularizer_rate))(flat)\n",
        "    dense1 = layers.Dropout(drop_rate)(dense1)\n",
        "    dense2 = layers.Dense(4096, activation='relu', kernel_regularizer=regularizers.l2(regularizer_rate))(dense1)\n",
        "    dense2 = layers.Dropout(drop_rate)(dense2)\n",
        "    outputs = layers.Dense(num_classes, activation='softmax', kernel_regularizer=regularizers.l2(regularizer_rate))(dense2)\n",
        "    model = tf.keras.Model(input, outputs)\n",
        "    model.load_weights('/content/gdrive/MyDrive/Colab Notebooks/THESIS_COMPLETE/keras_alexnet.h5')\n",
        "    model2 = Model(model.input, model.layers[-5].output)\n",
        "    return model2"
      ],
      "execution_count": null,
      "outputs": []
    },
    {
      "cell_type": "code",
      "metadata": {
        "id": "jYY0vtE19Z-R"
      },
      "source": [
        "  def Model1(shape):\n",
        "    input = Input(shape = shape)\n",
        "    resnet1=Alexnet(input)\n",
        "    model = Model(input, resnet1.output)\n",
        "    #model.summary()\n",
        "    return model\n",
        "  def Model2(shape):\n",
        "    input = Input(shape=shape)\n",
        "    resnet2=Alexnet(input)\n",
        "    model = Model(input, resnet2.output)\n",
        "    return model"
      ],
      "execution_count": null,
      "outputs": []
    },
    {
      "cell_type": "code",
      "metadata": {
        "id": "O048533QSxQJ"
      },
      "source": [
        "def contrastive_loss(y_true, y_pred):\n",
        "    margin = 100\n",
        "    square_pred = K.square(y_pred)\n",
        "    margin_square = K.square(K.maximum(margin - y_pred, 0))\n",
        "    y_true = tf.cast(y_true, dtype='float64')\n",
        "    square_pred = tf.cast(square_pred, dtype='float64')\n",
        "    margin_square = tf.cast(margin_square, dtype='float64')\n",
        "    path=K.mean((y_true)*(square_pred) + (1 - y_true)*(margin_square))\n",
        "    return path\n",
        "\n",
        "def euclid_dis(vects):\n",
        "    x,y = vects\n",
        "    sum_square = K.sum(K.square(x-y), axis=1, keepdims=True)\n",
        "    return K.sqrt(K.maximum(sum_square, K.epsilon()))\n",
        "\n",
        "def eucl_dist_output_shape(shapes):\n",
        "    shape1, shape2 = shapes\n",
        "    return (shape1[0], 1)\n",
        "\n",
        "def compute_accuracy(y_true, y_pred):\n",
        "    '''Compute classification accuracy with a fixed threshold on distances.\n",
        "    '''\n",
        "    pred = y_pred.ravel() < 50\n",
        "    return np.mean(pred == y_true)\n",
        "\n",
        "def accuracy(y_true, y_pred):\n",
        "    '''Compute classification accuracy with a fixed threshold on distances.\n",
        "    '''\n",
        "    return K.mean(K.equal(y_true, K.cast(y_pred < 50, y_true.dtype)))"
      ],
      "execution_count": null,
      "outputs": []
    },
    {
      "cell_type": "code",
      "metadata": {
        "id": "DaQgjp7W9pT2"
      },
      "source": [
        "from keras.layers import Input, Flatten, Dense, Dropout, Lambda,concatenate\n",
        "base_network =Model1((227,227, 3))\n",
        "base_network =Model2((227,227, 3))\n",
        "input_shape=(227,227,3)\n",
        "input_a = Input(shape=input_shape)\n",
        "input_b = Input(shape=input_shape)\n",
        "\n",
        "processed_a = base_network(input_a)\n",
        "processed_b = base_network(input_b)\n",
        "distance = Lambda(euclid_dis,\n",
        "                output_shape=eucl_dist_output_shape)([processed_a, processed_b])\n",
        "model = Model([input_a, input_b],distance)"
      ],
      "execution_count": null,
      "outputs": []
    },
    {
      "cell_type": "code",
      "metadata": {
        "id": "Ps0ccMxTOyoh"
      },
      "source": [
        "class DataGenerator(keras.utils.Sequence):\n",
        "    #'Generates data for Keras'\n",
        "    def __init__(self, UAV,SAT,TRLABELS1,\n",
        "                 batch_size=128, image_dimensions = (227 ,227 ,3)):\n",
        "\n",
        "        self.UAV = UAV\n",
        "        self.SAT = SAT\n",
        "        self.TRLABELS1= TRLABELS1\n",
        "        self.batch_size = batch_size\n",
        "        self.on_epoch_end()\n",
        "    def __len__(self):\n",
        "        #'Denotes the number of batches per epoch'\n",
        "        return int(np.ceil(len(self.UAV) / self.batch_size))\n",
        "\n",
        "    def on_epoch_end(self):\n",
        "        self.indexes = np.arange(len(self.UAV))\n",
        "\n",
        "    def __getitem__(self, index):\n",
        "        indexes = self.indexes[index * self.batch_size : (index + 1) * self.batch_size]\n",
        "\n",
        "\n",
        "        # select data and load images\n",
        "        mask1 = tf.convert_to_tensor([ self.TRLABELS1[k] for k in indexes])\n",
        "        image1 = tf.convert_to_tensor([ self.UAV[k] for k in indexes])\n",
        "        image2 = tf.convert_to_tensor([ self.SAT[k] for k in indexes])\n",
        "        return [image1, image2], [mask1]"
      ],
      "execution_count": null,
      "outputs": []
    },
    {
      "cell_type": "code",
      "metadata": {
        "id": "IDvWAjANOy2h"
      },
      "source": [
        "train_generator = DataGenerator(trpairs[:, 0],trpairs[:,1],trlabels)\n",
        "val_generator = DataGenerator(validpairs[:,0],validpairs[:,1],validlabels)"
      ],
      "execution_count": null,
      "outputs": []
    },
    {
      "cell_type": "code",
      "metadata": {
        "colab": {
          "base_uri": "https://localhost:8080/"
        },
        "id": "XPYy77CNTRhE",
        "outputId": "662e5c3f-c8f4-455c-9f3f-d465f00b0e5e"
      },
      "source": [
        "from keras.callbacks import LearningRateScheduler\n",
        "import numpy as np\n",
        "checkpoint_filepath = '/content/gdrive/MyDrive/Colab Notebooks/THESIS_COMPLETE/MODELS/checkpoint120421_0106'\n",
        "model_checkpoint_callback = tf.keras.callbacks.ModelCheckpoint(\n",
        "    filepath=checkpoint_filepath,\n",
        "    save_weights_only=True,\n",
        "    monitor='val_loss',\n",
        "    mode='min',\n",
        "    save_best_only=False)\n",
        "csv_logger =tf.keras.callbacks.CSVLogger('/content/gdrive/MyDrive/Colab Notebooks/training120421_0106.log')\n",
        "reduce_lr = keras.callbacks.ReduceLROnPlateau(monitor='val_loss', factor=0.5,\n",
        "                              patience=1, min_lr=5e-05,verbose=1)\n",
        "callback=keras.callbacks.EarlyStopping(monitor='val_loss',\n",
        "                              min_delta=0,\n",
        "                              patience=3,\n",
        "                              verbose=0, mode='min')\n",
        "lr_shed=keras.callbacks.LearningRateScheduler(lambda epoch:5e-6 * 10** (epoch/2),verbose=1)\n",
        "model.compile(loss=contrastive_loss, optimizer=keras.optimizers.Adam(), metrics=[accuracy])\n",
        "history = model.fit(train_generator,\n",
        "    steps_per_epoch=np.floor(len(trlabels)/128), \n",
        "    epochs=7,\n",
        "    verbose=1,\n",
        "    validation_data = val_generator,\n",
        "    validation_steps=np.floor(len(validlabels)/128),callbacks=[csv_logger,lr_shed,model_checkpoint_callback])"
      ],
      "execution_count": null,
      "outputs": [
        {
          "output_type": "stream",
          "text": [
            "Epoch 1/7\n",
            "\n",
            "Epoch 00001: LearningRateScheduler reducing learning rate to 5e-06.\n",
            "242/242 [==============================] - 5847s 24s/step - loss: 2459.5152 - accuracy: 0.6088 - val_loss: 1912.6268 - val_accuracy: 0.7422\n",
            "Epoch 2/7\n",
            "\n",
            "Epoch 00002: LearningRateScheduler reducing learning rate to 1.5811388300841898e-05.\n",
            "242/242 [==============================] - 5672s 23s/step - loss: 1801.4708 - accuracy: 0.7576 - val_loss: 1489.1384 - val_accuracy: 0.8089\n",
            "Epoch 3/7\n",
            "\n",
            "Epoch 00003: LearningRateScheduler reducing learning rate to 5e-05.\n",
            "242/242 [==============================] - 5660s 23s/step - loss: 1452.5263 - accuracy: 0.8183 - val_loss: 1199.0675 - val_accuracy: 0.8573\n",
            "Epoch 4/7\n",
            "\n",
            "Epoch 00004: LearningRateScheduler reducing learning rate to 0.00015811388300841897.\n",
            "242/242 [==============================] - 5690s 23s/step - loss: 1249.4523 - accuracy: 0.8500 - val_loss: 1063.8833 - val_accuracy: 0.8786\n",
            "Epoch 5/7\n",
            "\n",
            "Epoch 00005: LearningRateScheduler reducing learning rate to 0.0005.\n",
            "242/242 [==============================] - 5729s 24s/step - loss: 1812.6866 - accuracy: 0.7346 - val_loss: 1818.0509 - val_accuracy: 0.7239\n",
            "Epoch 6/7\n",
            "\n",
            "Epoch 00006: LearningRateScheduler reducing learning rate to 0.00158113883008419.\n",
            "242/242 [==============================] - 5688s 23s/step - loss: 3337.0514 - accuracy: 0.5682 - val_loss: 2420.4468 - val_accuracy: 0.5907\n",
            "Epoch 7/7\n",
            "\n",
            "Epoch 00007: LearningRateScheduler reducing learning rate to 0.005.\n",
            "242/242 [==============================] - 5714s 24s/step - loss: 29020452.0173 - accuracy: 0.5372 - val_loss: 5009.0176 - val_accuracy: 0.5000\n"
          ],
          "name": "stdout"
        }
      ]
    },
    {
      "cell_type": "code",
      "metadata": {
        "colab": {
          "base_uri": "https://localhost:8080/",
          "height": 485
        },
        "id": "GTMJHwPLIDHZ",
        "outputId": "26c9599c-d1c5-4222-e9bd-85242fa63110"
      },
      "source": [
        "import matplotlib.pyplot as plt\n",
        "lrs=5e-6 * (10**(tf.range(6)/2))\n",
        "plt.figure(figsize=(10,7))\n",
        "x=history.history[\"loss\"]\n",
        "plt.semilogx(lrs,x[:6])\n",
        "plt.xlabel(\"Learning Rate\",fontsize=14)\n",
        "plt.ylabel(\"Loss\",fontsize=14)\n",
        "plt.title(\"Loss vs Learning Rate\",fontsize=16)"
      ],
      "execution_count": null,
      "outputs": [
        {
          "output_type": "execute_result",
          "data": {
            "text/plain": [
              "Text(0.5, 1.0, 'Loss vs Learning Rate')"
            ]
          },
          "metadata": {
            "tags": []
          },
          "execution_count": 43
        },
        {
          "output_type": "display_data",
          "data": {
            "image/png": "[encoded data removed]",
            "text/plain": [
              "<Figure size 720x504 with 1 Axes>"
            ]
          },
          "metadata": {
            "tags": [],
            "needs_background": "light"
          }
        }
      ]
    },
    {
      "cell_type": "code",
      "metadata": {
        "colab": {
          "base_uri": "https://localhost:8080/"
        },
        "id": "2gmOT9YJJbRs",
        "outputId": "fade2397-91ce-454f-b6fd-37c12ba3cffa"
      },
      "source": [
        "from keras.callbacks import LearningRateScheduler\n",
        "import numpy as np\n",
        "checkpoint_filepath = '/content/gdrive/MyDrive/Colab Notebooks/THESIS_COMPLETE/MODELS/checkpoint1104210155'\n",
        "model_checkpoint_callback = tf.keras.callbacks.ModelCheckpoint(\n",
        "    filepath=checkpoint_filepath,\n",
        "    save_weights_only=True,\n",
        "    monitor='val_loss',\n",
        "    mode='min',\n",
        "    save_best_only=True)\n",
        "csv_logger =tf.keras.callbacks.CSVLogger('/content/gdrive/MyDrive/Colab Notebooks/training1104210155.log')\n",
        "reduce_lr = keras.callbacks.ReduceLROnPlateau(monitor='val_loss', factor=0.5,\n",
        "                              patience=1, min_lr=5e-5,verbose=1)\n",
        "callback=keras.callbacks.EarlyStopping(monitor='val_loss',\n",
        "                              min_delta=0,\n",
        "                              patience=3,\n",
        "                              verbose=0, mode='min')\n",
        "model.compile(loss=contrastive_loss, optimizer=keras.optimizers.Adam(5e-5), metrics=[accuracy])\n",
        "history = model.fit(train_generator,\n",
        "    steps_per_epoch=np.floor(len(trlabels)/128), \n",
        "    epochs=7,\n",
        "    verbose=1,\n",
        "    validation_data = val_generator,\n",
        "    validation_steps=np.floor(len(validlabels)/128),callbacks=[csv_logger,model_checkpoint_callback,callback])"
      ],
      "execution_count": null,
      "outputs": [
        {
          "output_type": "stream",
          "text": [
            "Epoch 1/7\n",
            "242/242 [==============================] - 5382s 22s/step - loss: 1993.8243 - accuracy: 0.7075 - val_loss: 1335.7323 - val_accuracy: 0.8407\n",
            "Epoch 2/7\n",
            "242/242 [==============================] - 5394s 22s/step - loss: 1260.6057 - accuracy: 0.8528 - val_loss: 1103.3237 - val_accuracy: 0.8834\n",
            "Epoch 3/7\n",
            "242/242 [==============================] - 5424s 22s/step - loss: 1071.6401 - accuracy: 0.8877 - val_loss: 1062.9937 - val_accuracy: 0.8891\n",
            "Epoch 4/7\n",
            "242/242 [==============================] - 5422s 22s/step - loss: 946.9146 - accuracy: 0.9080 - val_loss: 935.0248 - val_accuracy: 0.9078\n",
            "Epoch 5/7\n",
            "242/242 [==============================] - 5610s 23s/step - loss: 838.8986 - accuracy: 0.9241 - val_loss: 847.8334 - val_accuracy: 0.9207\n",
            "Epoch 6/7\n",
            "242/242 [==============================] - 5430s 22s/step - loss: 769.3638 - accuracy: 0.9370 - val_loss: 800.0505 - val_accuracy: 0.9294\n",
            "Epoch 7/7\n",
            "242/242 [==============================] - 5432s 22s/step - loss: 687.3667 - accuracy: 0.9457 - val_loss: 771.0771 - val_accuracy: 0.9312\n"
          ],
          "name": "stdout"
        }
      ]
    },
    {
      "cell_type": "code",
      "metadata": {
        "id": "A9Xzh7YX3IWd"
      },
      "source": [
        "new_model=keras.models.load_model(\"/content/gdrive/MyDrive/Colab Notebooks/MODELS/model110421_9305\",compile=False)"
      ],
      "execution_count": null,
      "outputs": []
    },
    {
      "cell_type": "code",
      "metadata": {
        "colab": {
          "base_uri": "https://localhost:8080/",
          "height": 266
        },
        "id": "k-5gMxnlk1Df",
        "outputId": "12d0b975-6820-4047-ee1e-7e6f3e40f7bb"
      },
      "source": [
        "pd.DataFrame(history.history)"
      ],
      "execution_count": null,
      "outputs": [
        {
          "output_type": "execute_result",
          "data": {
            "text/html": [
              "<div>\n",
              "<style scoped>\n",
              "    .dataframe tbody tr th:only-of-type {\n",
              "        vertical-align: middle;\n",
              "    }\n",
              "\n",
              "    .dataframe tbody tr th {\n",
              "        vertical-align: top;\n",
              "    }\n",
              "\n",
              "    .dataframe thead th {\n",
              "        text-align: right;\n",
              "    }\n",
              "</style>\n",
              "<table border=\"1\" class=\"dataframe\">\n",
              "  <thead>\n",
              "    <tr style=\"text-align: right;\">\n",
              "      <th></th>\n",
              "      <th>loss</th>\n",
              "      <th>accuracy</th>\n",
              "      <th>val_loss</th>\n",
              "      <th>val_accuracy</th>\n",
              "    </tr>\n",
              "  </thead>\n",
              "  <tbody>\n",
              "    <tr>\n",
              "      <th>0</th>\n",
              "      <td>1699.318848</td>\n",
              "      <td>0.765247</td>\n",
              "      <td>1335.732300</td>\n",
              "      <td>0.840745</td>\n",
              "    </tr>\n",
              "    <tr>\n",
              "      <th>1</th>\n",
              "      <td>1219.043213</td>\n",
              "      <td>0.863397</td>\n",
              "      <td>1103.323730</td>\n",
              "      <td>0.883413</td>\n",
              "    </tr>\n",
              "    <tr>\n",
              "      <th>2</th>\n",
              "      <td>1034.952026</td>\n",
              "      <td>0.894647</td>\n",
              "      <td>1062.993652</td>\n",
              "      <td>0.889123</td>\n",
              "    </tr>\n",
              "    <tr>\n",
              "      <th>3</th>\n",
              "      <td>923.115906</td>\n",
              "      <td>0.911185</td>\n",
              "      <td>935.024841</td>\n",
              "      <td>0.907752</td>\n",
              "    </tr>\n",
              "    <tr>\n",
              "      <th>4</th>\n",
              "      <td>839.064514</td>\n",
              "      <td>0.924282</td>\n",
              "      <td>847.833435</td>\n",
              "      <td>0.920673</td>\n",
              "    </tr>\n",
              "    <tr>\n",
              "      <th>5</th>\n",
              "      <td>758.493652</td>\n",
              "      <td>0.937625</td>\n",
              "      <td>800.050476</td>\n",
              "      <td>0.929387</td>\n",
              "    </tr>\n",
              "    <tr>\n",
              "      <th>6</th>\n",
              "      <td>711.449951</td>\n",
              "      <td>0.943666</td>\n",
              "      <td>771.077087</td>\n",
              "      <td>0.931190</td>\n",
              "    </tr>\n",
              "  </tbody>\n",
              "</table>\n",
              "</div>"
            ],
            "text/plain": [
              "          loss  accuracy     val_loss  val_accuracy\n",
              "0  1699.318848  0.765247  1335.732300      0.840745\n",
              "1  1219.043213  0.863397  1103.323730      0.883413\n",
              "2  1034.952026  0.894647  1062.993652      0.889123\n",
              "3   923.115906  0.911185   935.024841      0.907752\n",
              "4   839.064514  0.924282   847.833435      0.920673\n",
              "5   758.493652  0.937625   800.050476      0.929387\n",
              "6   711.449951  0.943666   771.077087      0.931190"
            ]
          },
          "metadata": {
            "tags": []
          },
          "execution_count": 36
        }
      ]
    },
    {
      "cell_type": "code",
      "metadata": {
        "colab": {
          "base_uri": "https://localhost:8080/",
          "height": 467
        },
        "id": "k0zXUg178Cp7",
        "outputId": "a1c4d698-2539-44ba-a548-1425603c792c"
      },
      "source": [
        "# LOSS Learning curves\n",
        "history_dict = history.history\n",
        "loss_values = df['loss']\n",
        "val_loss_values = df['val_loss']\n",
        "epochs = range(1, (len(history.history['loss']) + 1))\n",
        "plt.figure(figsize=(10,7))\n",
        "plt.plot(epochs, loss_values, 'b', label='Training loss')\n",
        "plt.plot(epochs, val_loss_values,color='g', label='Validation loss')\n",
        "plt.title('Training and validation loss',fontsize=18)\n",
        "plt.xlabel('Epochs',fontsize=16)\n",
        "plt.ylabel('Loss',fontsize=16)\n",
        "plt.legend(['loss','val_loss'],fontsize=12)\n",
        "plt.show()"
      ],
      "execution_count": null,
      "outputs": [
        {
          "output_type": "display_data",
          "data": {
            "image/png": "[encoded data removed]",
            "text/plain": [
              "<Figure size 720x504 with 1 Axes>"
            ]
          },
          "metadata": {
            "tags": [],
            "needs_background": "light"
          }
        }
      ]
    },
    {
      "cell_type": "code",
      "metadata": {
        "colab": {
          "base_uri": "https://localhost:8080/",
          "height": 467
        },
        "id": "iGvCbDku4NU5",
        "outputId": "c7df7f6d-da8e-4172-a635-262665b09c87"
      },
      "source": [
        "file_name = \"/content/gdrive/MyDrive/Colab Notebooks/training1104210155.log\"\n",
        "df = pd.read_csv(file_name)\n",
        "accuracy = df['accuracy']\n",
        "val_accuracy = df['val_accuracy']\n",
        "epochs = range(1, (len(history.history['loss']) + 1))\n",
        "plt.figure(figsize=(10,7))\n",
        "plt.plot(epochs,accuracy,color='b',label='accuracy')\n",
        "plt.plot(epochs, val_accuracy,color='g', label='Val_accuracy')\n",
        "plt.xlabel('Epochs ',fontsize=16)\n",
        "plt.ylabel('Accuracy',fontsize=16)\n",
        "plt.title('Accuracy Curves',fontsize=18)\n",
        "plt.legend(['accuracy','val_accuracy'],fontsize=12)\n",
        "plt.show()"
      ],
      "execution_count": null,
      "outputs": [
        {
          "output_type": "display_data",
          "data": {
            "image/png": "[encoded data removed]",
            "text/plain": [
              "<Figure size 720x504 with 1 Axes>"
            ]
          },
          "metadata": {
            "tags": [],
            "needs_background": "light"
          }
        }
      ]
    },
    {
      "cell_type": "code",
      "metadata": {
        "id": "cgaHmRR8_9NB"
      },
      "source": [
        "pairs=[]\n",
        "labels=[]\n",
        "match_array13 = match_array[:,0:800]\n",
        "match_array13 = match_array13[0:800,:]\n",
        "print(match_array12.shape)\n",
        "matching_pairs1 = np.transpose(np.nonzero(match_array13))\n",
        "print(matching_pairs1)\n",
        "uav1=np.array(training_data1[0:800],dtype='float16')\n",
        "sat1=np.array(training_dat1[0:800],dtype='float16')\n",
        "non_match_pairs = []\n",
        "for i in range(len(match_array13)):\n",
        "    match_idx = np.nonzero(match_array13[i,:])\n",
        "    match_idx = np.asarray(match_idx)\n",
        "    for j in range(match_idx.size):\n",
        "        rand_idx = np.random.randint(len(match_array13))\n",
        "        while(rand_idx in match_idx):\n",
        "            rand_idx = np.random.randint(len(match_array13))\n",
        "        non_match_pairs.append(np.array([i, rand_idx]))\n",
        "non_match_pairs = np.asarray(non_match_pairs)\n",
        "print(non_match_pairs.shape)\n",
        "choose_idx_match1 = []\n",
        "choose_idx_nonmt1 = []\n",
        "n_validby2 = 0\n",
        "while(len(choose_idx_match1) < n_validby2):\n",
        "    to_append = np.random.randint(len(matching_pairs1))\n",
        "    if to_append not in choose_idx_match1:\n",
        "        choose_idx_match1.append(to_append)   \n",
        "while(len(choose_idx_nonmt1) < n_validby2):\n",
        "    to_append = np.random.randint(len(non_match_pairs))\n",
        "    if to_append not in choose_idx_nonmt:\n",
        "        choose_idx_nonmt1.append(to_append)\n",
        "mask_match = np.ones(len(matching_pairs1), dtype = bool)\n",
        "mask_match[choose_idx_match1] = False\n",
        "mask_nonmt = np.ones(len(non_match_pairs), dtype = bool)\n",
        "mask_nonmt[choose_idx_nonmt1] = False\n",
        "match_pairs = matching_pairs1[mask_match]\n",
        "nonmt_pairs = non_match_pairs[mask_nonmt]\n",
        "for i in range(len(match_pairs)):\n",
        "            z1, z2 = match_pairs[i]\n",
        "            pairs += [[uav1[z1], sat1[z2]]]\n",
        "            z1, z2 = nonmt_pairs[i]\n",
        "            pairs += [[uav1[z1], sat1[z2]]]\n",
        "            labels += [1,0]\n",
        "testpairs=np.array(pairs,dtype='float16')\n",
        "testlabels=np.array(labels)"
      ],
      "execution_count": null,
      "outputs": []
    },
    {
      "cell_type": "code",
      "metadata": {
        "id": "sVZKXG7TIR6J"
      },
      "source": [
        "# make a histogram of the distances from results of inference\n",
        "import matplotlib.pyplot as plt\n",
        "def histo(preds, y_pred,stri):\n",
        "    matdist, nmatdist = [], []\n",
        "    for i in range(len(preds)):\n",
        "        if preds[i] == 0: nmatdist.append(y_pred[i])\n",
        "        if preds[i] == 1: matdist.append(y_pred[i])\n",
        "    #print(nmatdist)\n",
        "    nmatdist=np.array(nmatdist)\n",
        "    #print(nmatdist)\n",
        "    matdist=np.array(matdist)\n",
        "    mathist  = plt.hist( matdist, range(int(np.ceil(max( matdist)))), label = 'matching pairs', alpha = 0.5)\n",
        "    nmathist = plt.hist(nmatdist, range(int(np.ceil(max(nmatdist)))), label = 'non-matching pairs', alpha = 0.5)\n",
        "    plt.legend(loc='best')\n",
        "    plt.title(stri + ' data')\n",
        "    plt.xlabel('Distance between image pairs')\n",
        "    plt.show()       "
      ],
      "execution_count": null,
      "outputs": []
    },
    {
      "cell_type": "code",
      "metadata": {
        "colab": {
          "base_uri": "https://localhost:8080/"
        },
        "id": "3aKipAEDlknb",
        "outputId": "99f33fe3-568d-43a6-a85f-20fd90f54df8"
      },
      "source": [
        "y_pred1 = new_model.predict([trpairs[:, 0], trpairs[:, 1]])\n",
        "tr_acc = compute_accuracy(trlabels, y_pred1)\n",
        "print('Accuracy on train set:      %0.2f%%' % (100 * tr_acc))\n",
        "y_pred2 = new_model.predict([validpairs[:, 0], validpairs[:, 1]])\n",
        "tp_acc = compute_accuracy(validlabels, y_pred2)\n",
        "print('Accuracy on validation set: %0.2f%%' % (100 * tp_acc))\n",
        "y_pred3 = new_model.predict([atlantapairs[:, 0], atlantapairs[:, 1]])\n",
        "test_acc = compute_accuracy(atlantalabels, y_pred3)\n",
        "print('Accuracy on test set:       %0.2f%%' % (100 * test_acc))"
      ],
      "execution_count": null,
      "outputs": [
        {
          "output_type": "stream",
          "text": [
            "Accuracy on train set:      92.64%\n",
            "Accuracy on validation set: 91.60%\n",
            "Accuracy on test set:       87.12%\n"
          ],
          "name": "stdout"
        }
      ]
    },
    {
      "cell_type": "code",
      "metadata": {
        "colab": {
          "base_uri": "https://localhost:8080/",
          "height": 851
        },
        "id": "EXD3gj_Fl0ou",
        "outputId": "a4dfd456-e8fc-4d38-a32c-c9e6d40b64f9"
      },
      "source": [
        "histo(trlabels,y_pred1,'train')\n",
        "histo(validlabels,y_pred2,'valid')\n",
        "histo(atlantalabels,y_pred3,'test')"
      ],
      "execution_count": null,
      "outputs": [
        {
          "output_type": "display_data",
          "data": {
            "image/png": "[encoded data removed]",
            "text/plain": [
              "<Figure size 432x288 with 1 Axes>"
            ]
          },
          "metadata": {
            "tags": [],
            "needs_background": "light"
          }
        },
        {
          "output_type": "display_data",
          "data": {
            "image/png": "[encoded data removed]",
            "text/plain": [
              "<Figure size 432x288 with 1 Axes>"
            ]
          },
          "metadata": {
            "tags": [],
            "needs_background": "light"
          }
        },
        {
          "output_type": "display_data",
          "data": {
            "image/png": "[encoded data removed]",
            "text/plain": [
              "<Figure size 432x288 with 1 Axes>"
            ]
          },
          "metadata": {
            "tags": [],
            "needs_background": "light"
          }
        }
      ]
    }
  ]
}